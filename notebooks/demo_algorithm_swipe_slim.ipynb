{
 "cells": [
  {
   "cell_type": "markdown",
   "id": "e61ea723-6a99-44b5-b7fb-191c2c94c632",
   "metadata": {
    "tags": []
   },
   "source": [
    "## SWIPE Slim\n",
    "A step-by-step guide through the SWIPE [4] algorithm in a more efficient implementation. This notebook is part of **libf0 -  A Python Library for F0-Estimation in Music Recordings**.\n",
    "\n",
    "[4] Arturo Camacho and John G. Harris. A sawtooth waveform inspired pitch estimator for speech and music. The Journal of the Acoustical Society of America, vol. 124, no. 3, pp. 1638–1652, Sep. 2008."
   ]
  },
  {
   "cell_type": "code",
   "execution_count": null,
   "id": "678efa78-ee46-45b7-b9df-66a0e663b72f",
   "metadata": {},
   "outputs": [],
   "source": [
    "import numpy as np\n",
    "import librosa\n",
    "from scipy.interpolate import interp1d\n",
    "\n",
    "import sys\n",
    "sys.path.append('../')\n",
    "from libf0 import parabolic_interpolation\n",
    "\n",
    "import IPython.display as ipd\n",
    "import matplotlib.pyplot as plt"
   ]
  },
  {
   "cell_type": "code",
   "execution_count": null,
   "id": "9ad91050-ff65-42fb-849b-c47386dca521",
   "metadata": {},
   "outputs": [],
   "source": [
    "# load demo audio (a throat microphone recording of a soprano singer)\n",
    "fn_wav = \"../data/DCS_LI_QuartetB_Take03_S1_LRX_excerpt.wav\"\n",
    "x, Fs = librosa.load(fn_wav, sr=22050)\n",
    "ipd.display(ipd.Audio(x, rate=Fs, normalize=True)) # audio playback\n",
    "\n",
    "# set all parameters for YIN\n",
    "N = 2048 # frame size of the algorithm in samples\n",
    "H = 256 # hop size of the algorithm in samples\n",
    "F_min = 55.0 # minimum frequency of interest in Hz\n",
    "F_max = 1760.0 # maximum frequency of interest in Hz\n",
    "R = 10\n",
    "strength_threshold = 0"
   ]
  },
  {
   "cell_type": "markdown",
   "id": "22c47683-e0b2-43e2-af27-d0c074500a02",
   "metadata": {},
   "source": [
    "In the following, we visualize the SWIPE slim algorithm step-by-step. First, let's calculate the time and frequency axes."
   ]
  },
  {
   "cell_type": "code",
   "execution_count": null,
   "id": "18193e8e-31ad-4d37-b4f1-d7cacaa64899",
   "metadata": {},
   "outputs": [],
   "source": [
    "t = np.arange(0, len(x), H) / Fs  # time axis\n",
    "F_coef_log = np.arange(0, np.log2(Fs/2/F_min), R/1200)\n",
    "F_coef_log_hz = F_min * 2 ** F_coef_log  # pitch candidates"
   ]
  },
  {
   "cell_type": "markdown",
   "id": "df2aa68c-08ee-405b-b28d-d96967343a5c",
   "metadata": {},
   "source": [
    "The next step is the pre-computation of kernels for each pitch candidate in the range of `F_min` to `F_max`.\n",
    "\n",
    "**TODO:**\n",
    "* nicely explain and visualize the kernel(s)"
   ]
  },
  {
   "cell_type": "code",
   "execution_count": null,
   "id": "4340cdf6-cd5c-4f57-bc17-58df305d4492",
   "metadata": {},
   "outputs": [],
   "source": [
    "def prime_and_one(upto=1000000):\n",
    "    \"\"\"\n",
    "    Returns a set of prime numbers, adapted from http://rebrained.com/?p=458\n",
    "\n",
    "    Parameters\n",
    "    ----------\n",
    "    upto : int\n",
    "        Find prime numbers up to this number\n",
    "\n",
    "    Returns\n",
    "    -------\n",
    "    A set of prime numbers including 1 & 2\n",
    "    \"\"\"\n",
    "    primes = np.arange(3, upto+1, 2)\n",
    "    isprime = np.ones((upto-1)//2, dtype=np.bool8)\n",
    "    for factor in primes[:int(np.sqrt(upto))//2]:\n",
    "        if isprime[(factor-2)//2]:\n",
    "            isprime[(factor*3-2)//2::factor] = 0\n",
    "    return np.concatenate((np.array([1, 2]), primes[isprime]))\n",
    "\n",
    "def compute_kernel(f, F_coef_log_hz):\n",
    "    \"\"\"\n",
    "    Compute a SWIPE' kernel.\n",
    "\n",
    "    Parameters\n",
    "    ----------\n",
    "    f : float\n",
    "        Frequency in Hz\n",
    "    F_coef_log_hz :\n",
    "        Logarithmic frequency axis in Hz\n",
    "\n",
    "    Returns\n",
    "    -------\n",
    "    k : ndarray\n",
    "        Kernel\n",
    "    \"\"\"\n",
    "    k = np.zeros(len(F_coef_log_hz))\n",
    "    n_harmonics = np.floor(F_coef_log_hz[-1] / f).astype(np.int32)\n",
    "    prime_numbers = prime_and_one(100)[:n_harmonics]  # only consider prime harmonics for kernel peaks\n",
    "\n",
    "    ratio = F_coef_log_hz / f\n",
    "\n",
    "    # loop through all prime harmonics\n",
    "    for p in prime_numbers:\n",
    "        a = np.abs(ratio - p)  # normalized distance between harmonic and current pitch candidate\n",
    "        main_peak_bins = a < 0.25\n",
    "        k[main_peak_bins] = np.cos(np.dot(np.array(2 * np.pi).reshape(-1, 1),\n",
    "                                          ratio[main_peak_bins].reshape(1, -1))).flatten()\n",
    "        valley_bins = np.logical_and(0.25 < a, a < 0.75)\n",
    "        k[valley_bins] += np.cos(np.dot(np.array(2 * np.pi).reshape(-1, 1),\n",
    "                                        ratio[valley_bins].reshape(1, -1))).flatten() / 2\n",
    "\n",
    "    # Apply decay\n",
    "    k = np.multiply(k, np.sqrt(1.0 / F_coef_log_hz))\n",
    "\n",
    "    # K+-normalize kernel\n",
    "    k = k / np.linalg.norm(k[k > 0])\n",
    "\n",
    "    return k\n",
    "\n",
    "# pre-compute kernels, one kernel for each pitch candidate in range [F_min : F_max]\n",
    "F_min_idx = np.argmin(np.abs(F_coef_log_hz - F_min))\n",
    "F_max_idx = np.argmin(np.abs(F_coef_log_hz - F_max))\n",
    "B = F_max_idx - F_min_idx  # Number of pitch candidates\n",
    "kernels = np.zeros((B, len(F_coef_log_hz)))\n",
    "for i, f in enumerate(F_coef_log_hz[F_min_idx:F_max_idx]):\n",
    "    kernels[i, :] = compute_kernel(f, F_coef_log_hz)\n",
    "\n",
    "plt.figure()\n",
    "plt.plot(kernels[0])\n",
    "plt.show()"
   ]
  },
  {
   "cell_type": "markdown",
   "id": "9524e018-796b-4bb9-934a-d527187c36d1",
   "metadata": {},
   "source": [
    "Then we calculate the optimal window length for each kernel/candidate.\n",
    "\n",
    "**TODO:**\n",
    "* show matching between Hann window in frequency domain and kernels depending on frequency\n",
    "* optimal window size is $N=8/f$, show how this is quantized of the window sizes to avoid excessive STFTs"
   ]
  },
  {
   "cell_type": "code",
   "execution_count": null,
   "id": "07e6d4cb-8356-4535-9058-ec2639f42bc5",
   "metadata": {},
   "outputs": [],
   "source": [
    "L_opt = np.log2(Fs * 8 / np.array([F_min, F_max]))  # exponents for optimal window sizes 2^L, see paper Section II.G\n",
    "L_rnd = np.arange(np.round(L_opt[1]), np.round(L_opt[0])+1).astype(np.int32)  # range of rounded exponents\n",
    "N_pow2 = 2 ** L_rnd  # Compute rounded power-2 windows sizes\n",
    "# Quantization error between optimal window size (see paper Section II.G) and rounded power-2 windows size\n",
    "# Using only the largest N here, since errors for other N can be derived from err by subtracting exponent (cyclic)\n",
    "err = np.abs(np.log2(8 * Fs / F_coef_log_hz[F_min_idx:F_max_idx]) - np.log2(np.max(N_pow2)))"
   ]
  },
  {
   "cell_type": "markdown",
   "id": "f70553fd-0fc5-4269-a5fc-2936dbc6ed7c",
   "metadata": {},
   "source": [
    "Then we calculate the pitch strength for each window size and kernel, similar to the original SWIPE.\n",
    "\n",
    "**TODO:**\n",
    "* visualize `S_N`: the spectrum correlated with a specific kernel\n",
    "* in `S`, `S_N` is weighted by `mu`, which is the error induced by the quantization of window lengths"
   ]
  },
  {
   "cell_type": "code",
   "execution_count": null,
   "id": "118f3dcc-02ce-41b0-a442-ef01fc085c38",
   "metadata": {},
   "outputs": [],
   "source": [
    "S = np.zeros((B, len(t)))  # \"pitch-strength\" matrix\n",
    "\n",
    "# loop through all window sizes\n",
    "for octave, N in enumerate(N_pow2):\n",
    "    # Compute STFT\n",
    "    x_pad = np.pad(x, (0, N))  # to avoid problems during time axis interpolation\n",
    "    H = N // 2\n",
    "    X = librosa.stft(x_pad, n_fft=N, hop_length=H, win_length=N, window='hann', pad_mode='constant', center=True)\n",
    "    Y = np.abs(X)\n",
    "    T_coef_lin_s = np.arange(0, X.shape[1]) * H / Fs\n",
    "    F_coef_lin_hz = np.arange(N // 2 + 1) * Fs / N\n",
    "\n",
    "    # Resample to log-frequency axis\n",
    "    compute_Y_log = interp1d(F_coef_lin_hz, Y, kind='cubic', axis=0)\n",
    "    Y_log = compute_Y_log(F_coef_log_hz)\n",
    "\n",
    "    # Normalize magnitudes\n",
    "    Y_log /= np.sqrt(np.sum(Y_log ** 2, axis=0)) + np.finfo(float).eps\n",
    "\n",
    "    # Correlate kernels with log-spectrum for pitch candidates where N is optimal\n",
    "    S_N = np.matmul(kernels, Y_log)\n",
    "\n",
    "    # Resample time axis\n",
    "    compute_S_N_res = interp1d(T_coef_lin_s, S_N, kind='linear', axis=1)\n",
    "    S_N_res = compute_S_N_res(t)\n",
    "\n",
    "    # Weight pitch strength according to quantization error\n",
    "    candidates = (err > octave - 1) & (err < octave + 1)  # consider pitches +/- 1 octave from current window\n",
    "    mu = 1 - np.abs(err[candidates] - octave)\n",
    "\n",
    "    S[candidates, :] += np.multiply(mu.reshape(-1, 1), S_N_res[candidates, :])"
   ]
  },
  {
   "cell_type": "markdown",
   "id": "9b8f5856-f75a-4865-ab27-0aa1573727d7",
   "metadata": {},
   "source": [
    "The F0 estimate is now the maximum in S. The estimate can be refined with parabolic interpolation.\n",
    "\n",
    "**TODO:**\n",
    "* Show how parabolic interpolation improves the estimate (cf. YIN)"
   ]
  },
  {
   "cell_type": "code",
   "execution_count": null,
   "id": "dbf62735-36ea-43c2-a520-a4d42e3938bc",
   "metadata": {},
   "outputs": [],
   "source": [
    "max_indices = np.argmax(S, axis=0)\n",
    "conf = np.max(S, axis=0)\n",
    "\n",
    "# Parabolic Interpolation of pitch estimates for refinement\n",
    "time_idx = np.arange(S.shape[1])\n",
    "indeces_shift, _ = parabolic_interpolation(S[max_indices-1, time_idx],\n",
    "                                           S[max_indices, time_idx],\n",
    "                                           S[max_indices+1, time_idx])\n",
    "compute_f0_log = interp1d(np.arange(len(F_coef_log)), F_coef_log, kind='linear')\n",
    "f0_hz = F_min * 2 ** compute_f0_log(max_indices+indeces_shift)\n",
    "\n",
    "# Thresholding\n",
    "f0_hz[conf < strength_threshold] = 0  # discard estimates where confidence is low\n",
    "\n",
    "# Visualize F0-Trajectory and Aperiodicity\n",
    "plt.figure(figsize=(9, 6))\n",
    "plt.plot(t, f0_hz, linestyle='', color='k', marker='.')\n",
    "plt.ylim((0, 600))\n",
    "plt.xlabel('Time (seconds)')\n",
    "plt.ylabel('Frequency (Hz)')\n",
    "\n",
    "plt.figure(figsize=(9, 6))\n",
    "plt.plot(t, conf, color='k')\n",
    "plt.xlabel('Time (seconds)')\n",
    "plt.ylabel('Confidence')"
   ]
  }
 ],
 "metadata": {
  "kernelspec": {
   "display_name": "Python 3 (ipykernel)",
   "language": "python",
   "name": "python3"
  },
  "language_info": {
   "codemirror_mode": {
    "name": "ipython",
    "version": 3
   },
   "file_extension": ".py",
   "mimetype": "text/x-python",
   "name": "python",
   "nbconvert_exporter": "python",
   "pygments_lexer": "ipython3",
   "version": "3.9.10"
  }
 },
 "nbformat": 4,
 "nbformat_minor": 5
}
